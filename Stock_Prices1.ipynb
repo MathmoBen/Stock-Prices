{
 "cells": [
  {
   "cell_type": "markdown",
   "id": "75a89e3d",
   "metadata": {},
   "source": [
    "# Stock Price Tracking Project"
   ]
  },
  {
   "cell_type": "markdown",
   "id": "0549522a",
   "metadata": {},
   "source": [
    "We write some simple stock-tracking code, mimicking the example given here:\n",
    "\n",
    "https://www.dataquest.io/blog/portfolio-project-predicting-stock-prices-using-pandas-and-scikit-learn/\n",
    "\n",
    "In particular, uses a random forest approach applied to a timeseries to make predictions about future stock prices."
   ]
  },
  {
   "cell_type": "code",
   "execution_count": 4,
   "id": "d15f7af1",
   "metadata": {},
   "outputs": [
    {
     "name": "stdout",
     "output_type": "stream",
     "text": [
      "^C\n",
      "Note: you may need to restart the kernel to use updated packages.\n"
     ]
    }
   ],
   "source": [
    "pip install yfinance"
   ]
  },
  {
   "cell_type": "code",
   "execution_count": 21,
   "id": "1df7c8f7",
   "metadata": {},
   "outputs": [],
   "source": [
    "#The usual imports\n",
    "\n",
    "import yfinance as yf\n",
    "import os\n",
    "import pandas as pd\n",
    "from sklearn.ensemble import RandomForestClassifier\n",
    "import numpy as np\n",
    "from sklearn.metrics import precision_score"
   ]
  },
  {
   "cell_type": "code",
   "execution_count": 6,
   "id": "6165b69f",
   "metadata": {
    "scrolled": true
   },
   "outputs": [
    {
     "name": "stderr",
     "output_type": "stream",
     "text": [
      "C:\\Users\\Ben Fairbairn\\anaconda3NEW\\Lib\\site-packages\\yfinance\\utils.py:775: FutureWarning: The 'unit' keyword in TimedeltaIndex construction is deprecated and will be removed in a future version. Use pd.to_timedelta instead.\n",
      "  df.index += _pd.TimedeltaIndex(dst_error_hours, 'h')\n"
     ]
    }
   ],
   "source": [
    "msft = yf.Ticker(\"MSFT\")\n",
    "msft_hist = msft.history(period=\"max\")"
   ]
  },
  {
   "cell_type": "code",
   "execution_count": 7,
   "id": "d75d1ea7",
   "metadata": {},
   "outputs": [
    {
     "name": "stderr",
     "output_type": "stream",
     "text": [
      "C:\\Users\\Ben Fairbairn\\anaconda3NEW\\Lib\\site-packages\\yfinance\\utils.py:775: FutureWarning: The 'unit' keyword in TimedeltaIndex construction is deprecated and will be removed in a future version. Use pd.to_timedelta instead.\n",
      "  df.index += _pd.TimedeltaIndex(dst_error_hours, 'h')\n"
     ]
    }
   ],
   "source": [
    "DATA_PATH = \"msft_data.json\"\n",
    "\n",
    "if os.path.exists(DATA_PATH):\n",
    "    # Read from file if we've already downloaded the data.\n",
    "    with open(DATA_PATH) as f:\n",
    "        msft_hist = pd.read_json(DATA_PATH)\n",
    "else:\n",
    "    msft = yf.Ticker(\"MSFT\")\n",
    "    msft_hist = msft.history(period=\"max\")\n",
    "\n",
    "    # Save file to json in case we need it later.  This prevents us from having to re-download it every time.\n",
    "    msft_hist.to_json(DATA_PATH)"
   ]
  },
  {
   "cell_type": "code",
   "execution_count": 8,
   "id": "c092cc46",
   "metadata": {},
   "outputs": [
    {
     "data": {
      "text/html": [
       "<div>\n",
       "<style scoped>\n",
       "    .dataframe tbody tr th:only-of-type {\n",
       "        vertical-align: middle;\n",
       "    }\n",
       "\n",
       "    .dataframe tbody tr th {\n",
       "        vertical-align: top;\n",
       "    }\n",
       "\n",
       "    .dataframe thead th {\n",
       "        text-align: right;\n",
       "    }\n",
       "</style>\n",
       "<table border=\"1\" class=\"dataframe\">\n",
       "  <thead>\n",
       "    <tr style=\"text-align: right;\">\n",
       "      <th></th>\n",
       "      <th>Open</th>\n",
       "      <th>High</th>\n",
       "      <th>Low</th>\n",
       "      <th>Close</th>\n",
       "      <th>Volume</th>\n",
       "      <th>Dividends</th>\n",
       "      <th>Stock Splits</th>\n",
       "    </tr>\n",
       "    <tr>\n",
       "      <th>Date</th>\n",
       "      <th></th>\n",
       "      <th></th>\n",
       "      <th></th>\n",
       "      <th></th>\n",
       "      <th></th>\n",
       "      <th></th>\n",
       "      <th></th>\n",
       "    </tr>\n",
       "  </thead>\n",
       "  <tbody>\n",
       "    <tr>\n",
       "      <th>1986-03-13 00:00:00-05:00</th>\n",
       "      <td>0.054792</td>\n",
       "      <td>0.062849</td>\n",
       "      <td>0.054792</td>\n",
       "      <td>0.060163</td>\n",
       "      <td>1031788800</td>\n",
       "      <td>0.0</td>\n",
       "      <td>0.0</td>\n",
       "    </tr>\n",
       "    <tr>\n",
       "      <th>1986-03-14 00:00:00-05:00</th>\n",
       "      <td>0.060163</td>\n",
       "      <td>0.063386</td>\n",
       "      <td>0.060163</td>\n",
       "      <td>0.062311</td>\n",
       "      <td>308160000</td>\n",
       "      <td>0.0</td>\n",
       "      <td>0.0</td>\n",
       "    </tr>\n",
       "    <tr>\n",
       "      <th>1986-03-17 00:00:00-05:00</th>\n",
       "      <td>0.062311</td>\n",
       "      <td>0.063923</td>\n",
       "      <td>0.062311</td>\n",
       "      <td>0.063386</td>\n",
       "      <td>133171200</td>\n",
       "      <td>0.0</td>\n",
       "      <td>0.0</td>\n",
       "    </tr>\n",
       "    <tr>\n",
       "      <th>1986-03-18 00:00:00-05:00</th>\n",
       "      <td>0.063386</td>\n",
       "      <td>0.063923</td>\n",
       "      <td>0.061237</td>\n",
       "      <td>0.061774</td>\n",
       "      <td>67766400</td>\n",
       "      <td>0.0</td>\n",
       "      <td>0.0</td>\n",
       "    </tr>\n",
       "    <tr>\n",
       "      <th>1986-03-19 00:00:00-05:00</th>\n",
       "      <td>0.061774</td>\n",
       "      <td>0.062311</td>\n",
       "      <td>0.060163</td>\n",
       "      <td>0.060700</td>\n",
       "      <td>47894400</td>\n",
       "      <td>0.0</td>\n",
       "      <td>0.0</td>\n",
       "    </tr>\n",
       "  </tbody>\n",
       "</table>\n",
       "</div>"
      ],
      "text/plain": [
       "                               Open      High       Low     Close      Volume  \\\n",
       "Date                                                                            \n",
       "1986-03-13 00:00:00-05:00  0.054792  0.062849  0.054792  0.060163  1031788800   \n",
       "1986-03-14 00:00:00-05:00  0.060163  0.063386  0.060163  0.062311   308160000   \n",
       "1986-03-17 00:00:00-05:00  0.062311  0.063923  0.062311  0.063386   133171200   \n",
       "1986-03-18 00:00:00-05:00  0.063386  0.063923  0.061237  0.061774    67766400   \n",
       "1986-03-19 00:00:00-05:00  0.061774  0.062311  0.060163  0.060700    47894400   \n",
       "\n",
       "                           Dividends  Stock Splits  \n",
       "Date                                                \n",
       "1986-03-13 00:00:00-05:00        0.0           0.0  \n",
       "1986-03-14 00:00:00-05:00        0.0           0.0  \n",
       "1986-03-17 00:00:00-05:00        0.0           0.0  \n",
       "1986-03-18 00:00:00-05:00        0.0           0.0  \n",
       "1986-03-19 00:00:00-05:00        0.0           0.0  "
      ]
     },
     "execution_count": 8,
     "metadata": {},
     "output_type": "execute_result"
    }
   ],
   "source": [
    "#Quick inspection of the data\n",
    "\n",
    "msft_hist.head()"
   ]
  },
  {
   "cell_type": "code",
   "execution_count": 9,
   "id": "b3f18ac9",
   "metadata": {},
   "outputs": [
    {
     "data": {
      "text/plain": [
       "<Axes: xlabel='Date'>"
      ]
     },
     "execution_count": 9,
     "metadata": {},
     "output_type": "execute_result"
    },
    {
     "data": {
      "image/png": "[encoded data removed]",
      "text/plain": [
       "<Figure size 640x480 with 1 Axes>"
      ]
     },
     "metadata": {},
     "output_type": "display_data"
    }
   ],
   "source": [
    "# Visualize microsoft stock prices\n",
    "msft_hist.plot.line(y=\"Close\", use_index=True)"
   ]
  },
  {
   "cell_type": "code",
   "execution_count": 10,
   "id": "fc08d4e7",
   "metadata": {},
   "outputs": [],
   "source": [
    "# Ensure we know the actual closing price\n",
    "data = msft_hist[[\"Close\"]]\n",
    "data = data.rename(columns = {'Close':'Actual_Close'})\n",
    "\n",
    "# Setup our target.  This identifies if the price went up or down\n",
    "data[\"Target\"] = msft_hist.rolling(2).apply(lambda x: x.iloc[1] > x.iloc[0])[\"Close\"]"
   ]
  },
  {
   "cell_type": "code",
   "execution_count": 11,
   "id": "65288582",
   "metadata": {},
   "outputs": [
    {
     "data": {
      "text/html": [
       "<div>\n",
       "<style scoped>\n",
       "    .dataframe tbody tr th:only-of-type {\n",
       "        vertical-align: middle;\n",
       "    }\n",
       "\n",
       "    .dataframe tbody tr th {\n",
       "        vertical-align: top;\n",
       "    }\n",
       "\n",
       "    .dataframe thead th {\n",
       "        text-align: right;\n",
       "    }\n",
       "</style>\n",
       "<table border=\"1\" class=\"dataframe\">\n",
       "  <thead>\n",
       "    <tr style=\"text-align: right;\">\n",
       "      <th></th>\n",
       "      <th>Actual_Close</th>\n",
       "      <th>Target</th>\n",
       "    </tr>\n",
       "    <tr>\n",
       "      <th>Date</th>\n",
       "      <th></th>\n",
       "      <th></th>\n",
       "    </tr>\n",
       "  </thead>\n",
       "  <tbody>\n",
       "    <tr>\n",
       "      <th>1986-03-13 00:00:00-05:00</th>\n",
       "      <td>0.060163</td>\n",
       "      <td>NaN</td>\n",
       "    </tr>\n",
       "    <tr>\n",
       "      <th>1986-03-14 00:00:00-05:00</th>\n",
       "      <td>0.062311</td>\n",
       "      <td>1.0</td>\n",
       "    </tr>\n",
       "    <tr>\n",
       "      <th>1986-03-17 00:00:00-05:00</th>\n",
       "      <td>0.063386</td>\n",
       "      <td>1.0</td>\n",
       "    </tr>\n",
       "    <tr>\n",
       "      <th>1986-03-18 00:00:00-05:00</th>\n",
       "      <td>0.061774</td>\n",
       "      <td>0.0</td>\n",
       "    </tr>\n",
       "    <tr>\n",
       "      <th>1986-03-19 00:00:00-05:00</th>\n",
       "      <td>0.060700</td>\n",
       "      <td>0.0</td>\n",
       "    </tr>\n",
       "  </tbody>\n",
       "</table>\n",
       "</div>"
      ],
      "text/plain": [
       "                           Actual_Close  Target\n",
       "Date                                           \n",
       "1986-03-13 00:00:00-05:00      0.060163     NaN\n",
       "1986-03-14 00:00:00-05:00      0.062311     1.0\n",
       "1986-03-17 00:00:00-05:00      0.063386     1.0\n",
       "1986-03-18 00:00:00-05:00      0.061774     0.0\n",
       "1986-03-19 00:00:00-05:00      0.060700     0.0"
      ]
     },
     "execution_count": 11,
     "metadata": {},
     "output_type": "execute_result"
    }
   ],
   "source": [
    "data.head()"
   ]
  },
  {
   "cell_type": "code",
   "execution_count": 12,
   "id": "4de766bf",
   "metadata": {},
   "outputs": [],
   "source": [
    "# Shift stock prices forward one day, so we're predicting tomorrow's stock prices from today's prices.\n",
    "msft_prev = msft_hist.copy()\n",
    "msft_prev = msft_prev.shift(1)"
   ]
  },
  {
   "cell_type": "code",
   "execution_count": 13,
   "id": "ec775ea3",
   "metadata": {},
   "outputs": [
    {
     "data": {
      "text/html": [
       "<div>\n",
       "<style scoped>\n",
       "    .dataframe tbody tr th:only-of-type {\n",
       "        vertical-align: middle;\n",
       "    }\n",
       "\n",
       "    .dataframe tbody tr th {\n",
       "        vertical-align: top;\n",
       "    }\n",
       "\n",
       "    .dataframe thead th {\n",
       "        text-align: right;\n",
       "    }\n",
       "</style>\n",
       "<table border=\"1\" class=\"dataframe\">\n",
       "  <thead>\n",
       "    <tr style=\"text-align: right;\">\n",
       "      <th></th>\n",
       "      <th>Open</th>\n",
       "      <th>High</th>\n",
       "      <th>Low</th>\n",
       "      <th>Close</th>\n",
       "      <th>Volume</th>\n",
       "      <th>Dividends</th>\n",
       "      <th>Stock Splits</th>\n",
       "    </tr>\n",
       "    <tr>\n",
       "      <th>Date</th>\n",
       "      <th></th>\n",
       "      <th></th>\n",
       "      <th></th>\n",
       "      <th></th>\n",
       "      <th></th>\n",
       "      <th></th>\n",
       "      <th></th>\n",
       "    </tr>\n",
       "  </thead>\n",
       "  <tbody>\n",
       "    <tr>\n",
       "      <th>1986-03-13 00:00:00-05:00</th>\n",
       "      <td>NaN</td>\n",
       "      <td>NaN</td>\n",
       "      <td>NaN</td>\n",
       "      <td>NaN</td>\n",
       "      <td>NaN</td>\n",
       "      <td>NaN</td>\n",
       "      <td>NaN</td>\n",
       "    </tr>\n",
       "    <tr>\n",
       "      <th>1986-03-14 00:00:00-05:00</th>\n",
       "      <td>0.054792</td>\n",
       "      <td>0.062849</td>\n",
       "      <td>0.054792</td>\n",
       "      <td>0.060163</td>\n",
       "      <td>1.031789e+09</td>\n",
       "      <td>0.0</td>\n",
       "      <td>0.0</td>\n",
       "    </tr>\n",
       "    <tr>\n",
       "      <th>1986-03-17 00:00:00-05:00</th>\n",
       "      <td>0.060163</td>\n",
       "      <td>0.063386</td>\n",
       "      <td>0.060163</td>\n",
       "      <td>0.062311</td>\n",
       "      <td>3.081600e+08</td>\n",
       "      <td>0.0</td>\n",
       "      <td>0.0</td>\n",
       "    </tr>\n",
       "    <tr>\n",
       "      <th>1986-03-18 00:00:00-05:00</th>\n",
       "      <td>0.062311</td>\n",
       "      <td>0.063923</td>\n",
       "      <td>0.062311</td>\n",
       "      <td>0.063386</td>\n",
       "      <td>1.331712e+08</td>\n",
       "      <td>0.0</td>\n",
       "      <td>0.0</td>\n",
       "    </tr>\n",
       "    <tr>\n",
       "      <th>1986-03-19 00:00:00-05:00</th>\n",
       "      <td>0.063386</td>\n",
       "      <td>0.063923</td>\n",
       "      <td>0.061237</td>\n",
       "      <td>0.061774</td>\n",
       "      <td>6.776640e+07</td>\n",
       "      <td>0.0</td>\n",
       "      <td>0.0</td>\n",
       "    </tr>\n",
       "  </tbody>\n",
       "</table>\n",
       "</div>"
      ],
      "text/plain": [
       "                               Open      High       Low     Close  \\\n",
       "Date                                                                \n",
       "1986-03-13 00:00:00-05:00       NaN       NaN       NaN       NaN   \n",
       "1986-03-14 00:00:00-05:00  0.054792  0.062849  0.054792  0.060163   \n",
       "1986-03-17 00:00:00-05:00  0.060163  0.063386  0.060163  0.062311   \n",
       "1986-03-18 00:00:00-05:00  0.062311  0.063923  0.062311  0.063386   \n",
       "1986-03-19 00:00:00-05:00  0.063386  0.063923  0.061237  0.061774   \n",
       "\n",
       "                                 Volume  Dividends  Stock Splits  \n",
       "Date                                                              \n",
       "1986-03-13 00:00:00-05:00           NaN        NaN           NaN  \n",
       "1986-03-14 00:00:00-05:00  1.031789e+09        0.0           0.0  \n",
       "1986-03-17 00:00:00-05:00  3.081600e+08        0.0           0.0  \n",
       "1986-03-18 00:00:00-05:00  1.331712e+08        0.0           0.0  \n",
       "1986-03-19 00:00:00-05:00  6.776640e+07        0.0           0.0  "
      ]
     },
     "execution_count": 13,
     "metadata": {},
     "output_type": "execute_result"
    }
   ],
   "source": [
    "msft_prev.head()"
   ]
  },
  {
   "cell_type": "code",
   "execution_count": 14,
   "id": "bcdb0c74",
   "metadata": {},
   "outputs": [],
   "source": [
    "# Create our training data\n",
    "predictors = [\"Close\", \"Volume\", \"Open\", \"High\", \"Low\"]\n",
    "data = data.join(msft_prev[predictors]).iloc[1:]"
   ]
  },
  {
   "cell_type": "code",
   "execution_count": 15,
   "id": "e17eb968",
   "metadata": {},
   "outputs": [
    {
     "data": {
      "text/html": [
       "<div>\n",
       "<style scoped>\n",
       "    .dataframe tbody tr th:only-of-type {\n",
       "        vertical-align: middle;\n",
       "    }\n",
       "\n",
       "    .dataframe tbody tr th {\n",
       "        vertical-align: top;\n",
       "    }\n",
       "\n",
       "    .dataframe thead th {\n",
       "        text-align: right;\n",
       "    }\n",
       "</style>\n",
       "<table border=\"1\" class=\"dataframe\">\n",
       "  <thead>\n",
       "    <tr style=\"text-align: right;\">\n",
       "      <th></th>\n",
       "      <th>Actual_Close</th>\n",
       "      <th>Target</th>\n",
       "      <th>Close</th>\n",
       "      <th>Volume</th>\n",
       "      <th>Open</th>\n",
       "      <th>High</th>\n",
       "      <th>Low</th>\n",
       "    </tr>\n",
       "    <tr>\n",
       "      <th>Date</th>\n",
       "      <th></th>\n",
       "      <th></th>\n",
       "      <th></th>\n",
       "      <th></th>\n",
       "      <th></th>\n",
       "      <th></th>\n",
       "      <th></th>\n",
       "    </tr>\n",
       "  </thead>\n",
       "  <tbody>\n",
       "    <tr>\n",
       "      <th>1986-03-14 00:00:00-05:00</th>\n",
       "      <td>0.062311</td>\n",
       "      <td>1.0</td>\n",
       "      <td>0.060163</td>\n",
       "      <td>1.031789e+09</td>\n",
       "      <td>0.054792</td>\n",
       "      <td>0.062849</td>\n",
       "      <td>0.054792</td>\n",
       "    </tr>\n",
       "    <tr>\n",
       "      <th>1986-03-17 00:00:00-05:00</th>\n",
       "      <td>0.063386</td>\n",
       "      <td>1.0</td>\n",
       "      <td>0.062311</td>\n",
       "      <td>3.081600e+08</td>\n",
       "      <td>0.060163</td>\n",
       "      <td>0.063386</td>\n",
       "      <td>0.060163</td>\n",
       "    </tr>\n",
       "    <tr>\n",
       "      <th>1986-03-18 00:00:00-05:00</th>\n",
       "      <td>0.061774</td>\n",
       "      <td>0.0</td>\n",
       "      <td>0.063386</td>\n",
       "      <td>1.331712e+08</td>\n",
       "      <td>0.062311</td>\n",
       "      <td>0.063923</td>\n",
       "      <td>0.062311</td>\n",
       "    </tr>\n",
       "    <tr>\n",
       "      <th>1986-03-19 00:00:00-05:00</th>\n",
       "      <td>0.060700</td>\n",
       "      <td>0.0</td>\n",
       "      <td>0.061774</td>\n",
       "      <td>6.776640e+07</td>\n",
       "      <td>0.063386</td>\n",
       "      <td>0.063923</td>\n",
       "      <td>0.061237</td>\n",
       "    </tr>\n",
       "    <tr>\n",
       "      <th>1986-03-20 00:00:00-05:00</th>\n",
       "      <td>0.059089</td>\n",
       "      <td>0.0</td>\n",
       "      <td>0.060700</td>\n",
       "      <td>4.789440e+07</td>\n",
       "      <td>0.061774</td>\n",
       "      <td>0.062311</td>\n",
       "      <td>0.060163</td>\n",
       "    </tr>\n",
       "  </tbody>\n",
       "</table>\n",
       "</div>"
      ],
      "text/plain": [
       "                           Actual_Close  Target     Close        Volume  \\\n",
       "Date                                                                      \n",
       "1986-03-14 00:00:00-05:00      0.062311     1.0  0.060163  1.031789e+09   \n",
       "1986-03-17 00:00:00-05:00      0.063386     1.0  0.062311  3.081600e+08   \n",
       "1986-03-18 00:00:00-05:00      0.061774     0.0  0.063386  1.331712e+08   \n",
       "1986-03-19 00:00:00-05:00      0.060700     0.0  0.061774  6.776640e+07   \n",
       "1986-03-20 00:00:00-05:00      0.059089     0.0  0.060700  4.789440e+07   \n",
       "\n",
       "                               Open      High       Low  \n",
       "Date                                                     \n",
       "1986-03-14 00:00:00-05:00  0.054792  0.062849  0.054792  \n",
       "1986-03-17 00:00:00-05:00  0.060163  0.063386  0.060163  \n",
       "1986-03-18 00:00:00-05:00  0.062311  0.063923  0.062311  \n",
       "1986-03-19 00:00:00-05:00  0.063386  0.063923  0.061237  \n",
       "1986-03-20 00:00:00-05:00  0.061774  0.062311  0.060163  "
      ]
     },
     "execution_count": 15,
     "metadata": {},
     "output_type": "execute_result"
    }
   ],
   "source": [
    "data.head()"
   ]
  },
  {
   "cell_type": "code",
   "execution_count": 17,
   "id": "d2e25d39",
   "metadata": {},
   "outputs": [],
   "source": [
    "# Create a random forest classification model.  Set min_samples_split high to ensure we don't overfit.\n",
    "model = RandomForestClassifier(n_estimators=100, min_samples_split=200, random_state=1)"
   ]
  },
  {
   "cell_type": "code",
   "execution_count": 19,
   "id": "b816e68b",
   "metadata": {},
   "outputs": [
    {
     "data": {
      "text/plain": [
       "(9560, 7)"
      ]
     },
     "execution_count": 19,
     "metadata": {},
     "output_type": "execute_result"
    }
   ],
   "source": [
    "data.shape"
   ]
  },
  {
   "cell_type": "code",
   "execution_count": 20,
   "id": "4f240f5d",
   "metadata": {},
   "outputs": [
    {
     "data": {
      "text/html": [
       "<style>#sk-container-id-1 {color: black;background-color: white;}#sk-container-id-1 pre{padding: 0;}#sk-container-id-1 div.sk-toggleable {background-color: white;}#sk-container-id-1 label.sk-toggleable__label {cursor: pointer;display: block;width: 100%;margin-bottom: 0;padding: 0.3em;box-sizing: border-box;text-align: center;}#sk-container-id-1 label.sk-toggleable__label-arrow:before {content: \"▸\";float: left;margin-right: 0.25em;color: #696969;}#sk-container-id-1 label.sk-toggleable__label-arrow:hover:before {color: black;}#sk-container-id-1 div.sk-estimator:hover label.sk-toggleable__label-arrow:before {color: black;}#sk-container-id-1 div.sk-toggleable__content {max-height: 0;max-width: 0;overflow: hidden;text-align: left;background-color: #f0f8ff;}#sk-container-id-1 div.sk-toggleable__content pre {margin: 0.2em;color: black;border-radius: 0.25em;background-color: #f0f8ff;}#sk-container-id-1 input.sk-toggleable__control:checked~div.sk-toggleable__content {max-height: 200px;max-width: 100%;overflow: auto;}#sk-container-id-1 input.sk-toggleable__control:checked~label.sk-toggleable__label-arrow:before {content: \"▾\";}#sk-container-id-1 div.sk-estimator input.sk-toggleable__control:checked~label.sk-toggleable__label {background-color: #d4ebff;}#sk-container-id-1 div.sk-label input.sk-toggleable__control:checked~label.sk-toggleable__label {background-color: #d4ebff;}#sk-container-id-1 input.sk-hidden--visually {border: 0;clip: rect(1px 1px 1px 1px);clip: rect(1px, 1px, 1px, 1px);height: 1px;margin: -1px;overflow: hidden;padding: 0;position: absolute;width: 1px;}#sk-container-id-1 div.sk-estimator {font-family: monospace;background-color: #f0f8ff;border: 1px dotted black;border-radius: 0.25em;box-sizing: border-box;margin-bottom: 0.5em;}#sk-container-id-1 div.sk-estimator:hover {background-color: #d4ebff;}#sk-container-id-1 div.sk-parallel-item::after {content: \"\";width: 100%;border-bottom: 1px solid gray;flex-grow: 1;}#sk-container-id-1 div.sk-label:hover label.sk-toggleable__label {background-color: #d4ebff;}#sk-container-id-1 div.sk-serial::before {content: \"\";position: absolute;border-left: 1px solid gray;box-sizing: border-box;top: 0;bottom: 0;left: 50%;z-index: 0;}#sk-container-id-1 div.sk-serial {display: flex;flex-direction: column;align-items: center;background-color: white;padding-right: 0.2em;padding-left: 0.2em;position: relative;}#sk-container-id-1 div.sk-item {position: relative;z-index: 1;}#sk-container-id-1 div.sk-parallel {display: flex;align-items: stretch;justify-content: center;background-color: white;position: relative;}#sk-container-id-1 div.sk-item::before, #sk-container-id-1 div.sk-parallel-item::before {content: \"\";position: absolute;border-left: 1px solid gray;box-sizing: border-box;top: 0;bottom: 0;left: 50%;z-index: -1;}#sk-container-id-1 div.sk-parallel-item {display: flex;flex-direction: column;z-index: 1;position: relative;background-color: white;}#sk-container-id-1 div.sk-parallel-item:first-child::after {align-self: flex-end;width: 50%;}#sk-container-id-1 div.sk-parallel-item:last-child::after {align-self: flex-start;width: 50%;}#sk-container-id-1 div.sk-parallel-item:only-child::after {width: 0;}#sk-container-id-1 div.sk-dashed-wrapped {border: 1px dashed gray;margin: 0 0.4em 0.5em 0.4em;box-sizing: border-box;padding-bottom: 0.4em;background-color: white;}#sk-container-id-1 div.sk-label label {font-family: monospace;font-weight: bold;display: inline-block;line-height: 1.2em;}#sk-container-id-1 div.sk-label-container {text-align: center;}#sk-container-id-1 div.sk-container {/* jupyter's `normalize.less` sets `[hidden] { display: none; }` but bootstrap.min.css set `[hidden] { display: none !important; }` so we also need the `!important` here to be able to override the default hidden behavior on the sphinx rendered scikit-learn.org. See: https://github.com/scikit-learn/scikit-learn/issues/21755 */display: inline-block !important;position: relative;}#sk-container-id-1 div.sk-text-repr-fallback {display: none;}</style><div id=\"sk-container-id-1\" class=\"sk-top-container\"><div class=\"sk-text-repr-fallback\"><pre>RandomForestClassifier(min_samples_split=200, random_state=1)</pre><b>In a Jupyter environment, please rerun this cell to show the HTML representation or trust the notebook. <br />On GitHub, the HTML representation is unable to render, please try loading this page with nbviewer.org.</b></div><div class=\"sk-container\" hidden><div class=\"sk-item\"><div class=\"sk-estimator sk-toggleable\"><input class=\"sk-toggleable__control sk-hidden--visually\" id=\"sk-estimator-id-1\" type=\"checkbox\" checked><label for=\"sk-estimator-id-1\" class=\"sk-toggleable__label sk-toggleable__label-arrow\">RandomForestClassifier</label><div class=\"sk-toggleable__content\"><pre>RandomForestClassifier(min_samples_split=200, random_state=1)</pre></div></div></div></div></div>"
      ],
      "text/plain": [
       "RandomForestClassifier(min_samples_split=200, random_state=1)"
      ]
     },
     "execution_count": 20,
     "metadata": {},
     "output_type": "execute_result"
    }
   ],
   "source": [
    "# Create a train and test set\n",
    "train = data.iloc[:-100]\n",
    "test = data.iloc[-100:]\n",
    "\n",
    "model.fit(train[predictors], train[\"Target\"])"
   ]
  },
  {
   "cell_type": "code",
   "execution_count": 22,
   "id": "f7df81b9",
   "metadata": {},
   "outputs": [
    {
     "data": {
      "text/plain": [
       "0.8181818181818182"
      ]
     },
     "execution_count": 22,
     "metadata": {},
     "output_type": "execute_result"
    }
   ],
   "source": [
    "# Evaluate error of predictions \n",
    "preds = model.predict(test[predictors]) \n",
    "preds = pd.Series(preds, index=test.index) \n",
    "precision_score(test[\"Target\"], preds)"
   ]
  },
  {
   "cell_type": "code",
   "execution_count": 23,
   "id": "3433f751",
   "metadata": {},
   "outputs": [
    {
     "data": {
      "text/plain": [
       "<Axes: xlabel='Date'>"
      ]
     },
     "execution_count": 23,
     "metadata": {},
     "output_type": "execute_result"
    },
    {
     "data": {
      "image/png": "[encoded data removed]",
      "text/plain": [
       "<Figure size 640x480 with 1 Axes>"
      ]
     },
     "metadata": {},
     "output_type": "display_data"
    }
   ],
   "source": [
    "combined = pd.concat({\"Target\": test[\"Target\"],\"Predictions\": preds}, axis=1)\n",
    "combined.plot()"
   ]
  },
  {
   "cell_type": "code",
   "execution_count": 24,
   "id": "045cf0fd",
   "metadata": {},
   "outputs": [],
   "source": [
    "i = 1000\n",
    "step = 750\n",
    "\n",
    "train = data.iloc[0:i].copy()\n",
    "test = data.iloc[i:(i+step)].copy()\n",
    "model.fit(train[predictors], train[\"Target\"])\n",
    "preds = model.predict(test[predictors])"
   ]
  },
  {
   "cell_type": "code",
   "execution_count": 25,
   "id": "415dc3af",
   "metadata": {},
   "outputs": [],
   "source": [
    "preds = model.predict_proba(test[predictors])[:,1]\n",
    "preds = pd.Series(preds, index=test.index)\n",
    "preds[preds > .6] = 1\n",
    "preds[preds<=.6] = 0"
   ]
  },
  {
   "cell_type": "code",
   "execution_count": 26,
   "id": "c9bef73d",
   "metadata": {},
   "outputs": [
    {
     "data": {
      "text/plain": [
       "Date\n",
       "1990-02-27 00:00:00-05:00    1.0\n",
       "1990-02-28 00:00:00-05:00    1.0\n",
       "1990-03-01 00:00:00-05:00    1.0\n",
       "1990-03-02 00:00:00-05:00    1.0\n",
       "1990-03-05 00:00:00-05:00    1.0\n",
       "dtype: float64"
      ]
     },
     "execution_count": 26,
     "metadata": {},
     "output_type": "execute_result"
    }
   ],
   "source": [
    "preds.head()"
   ]
  },
  {
   "cell_type": "code",
   "execution_count": 27,
   "id": "1fe05bc8",
   "metadata": {},
   "outputs": [],
   "source": [
    "predictions = []\n",
    "# Loop over the dataset in increments\n",
    "for i in range(1000, data.shape[0], step):\n",
    "    # Split into train and test sets\n",
    "    train = data.iloc[0:i].copy()\n",
    "    test = data.iloc[i:(i+step)].copy()\n",
    "\n",
    "    # Fit the random forest model\n",
    "    model.fit(train[predictors], train[\"Target\"])\n",
    "\n",
    "    # Make predictions\n",
    "    preds = model.predict_proba(test[predictors])[:,1]\n",
    "    preds = pd.Series(preds, index=test.index)\n",
    "    preds[preds > .6] = 1\n",
    "    preds[preds<=.6] = 0\n",
    "\n",
    "    # Combine predictions and test values\n",
    "    combined = pd.concat({\"Target\": test[\"Target\"],\"Predictions\": preds}, axis=1)\n",
    "\n",
    "    predictions.append(combined)"
   ]
  },
  {
   "cell_type": "code",
   "execution_count": 28,
   "id": "d8b7c21b",
   "metadata": {},
   "outputs": [
    {
     "data": {
      "text/html": [
       "<div>\n",
       "<style scoped>\n",
       "    .dataframe tbody tr th:only-of-type {\n",
       "        vertical-align: middle;\n",
       "    }\n",
       "\n",
       "    .dataframe tbody tr th {\n",
       "        vertical-align: top;\n",
       "    }\n",
       "\n",
       "    .dataframe thead th {\n",
       "        text-align: right;\n",
       "    }\n",
       "</style>\n",
       "<table border=\"1\" class=\"dataframe\">\n",
       "  <thead>\n",
       "    <tr style=\"text-align: right;\">\n",
       "      <th></th>\n",
       "      <th>Target</th>\n",
       "      <th>Predictions</th>\n",
       "    </tr>\n",
       "    <tr>\n",
       "      <th>Date</th>\n",
       "      <th></th>\n",
       "      <th></th>\n",
       "    </tr>\n",
       "  </thead>\n",
       "  <tbody>\n",
       "    <tr>\n",
       "      <th>1990-02-27 00:00:00-05:00</th>\n",
       "      <td>0.0</td>\n",
       "      <td>1.0</td>\n",
       "    </tr>\n",
       "    <tr>\n",
       "      <th>1990-02-28 00:00:00-05:00</th>\n",
       "      <td>1.0</td>\n",
       "      <td>1.0</td>\n",
       "    </tr>\n",
       "    <tr>\n",
       "      <th>1990-03-01 00:00:00-05:00</th>\n",
       "      <td>1.0</td>\n",
       "      <td>1.0</td>\n",
       "    </tr>\n",
       "    <tr>\n",
       "      <th>1990-03-02 00:00:00-05:00</th>\n",
       "      <td>1.0</td>\n",
       "      <td>1.0</td>\n",
       "    </tr>\n",
       "    <tr>\n",
       "      <th>1990-03-05 00:00:00-05:00</th>\n",
       "      <td>1.0</td>\n",
       "      <td>1.0</td>\n",
       "    </tr>\n",
       "  </tbody>\n",
       "</table>\n",
       "</div>"
      ],
      "text/plain": [
       "                           Target  Predictions\n",
       "Date                                          \n",
       "1990-02-27 00:00:00-05:00     0.0          1.0\n",
       "1990-02-28 00:00:00-05:00     1.0          1.0\n",
       "1990-03-01 00:00:00-05:00     1.0          1.0\n",
       "1990-03-02 00:00:00-05:00     1.0          1.0\n",
       "1990-03-05 00:00:00-05:00     1.0          1.0"
      ]
     },
     "execution_count": 28,
     "metadata": {},
     "output_type": "execute_result"
    }
   ],
   "source": [
    "predictions[0].head()"
   ]
  },
  {
   "cell_type": "code",
   "execution_count": 29,
   "id": "6fe1301b",
   "metadata": {},
   "outputs": [],
   "source": [
    "def backtest(data, model, predictors, start=1000, step=750):\n",
    "    predictions = []\n",
    "    # Loop over the dataset in increments\n",
    "    for i in range(start, data.shape[0], step):\n",
    "        # Split into train and test sets\n",
    "        train = data.iloc[0:i].copy()\n",
    "        test = data.iloc[i:(i+step)].copy()\n",
    "\n",
    "        # Fit the random forest model\n",
    "        model.fit(train[predictors], train[\"Target\"])\n",
    "\n",
    "        # Make predictions\n",
    "        preds = model.predict_proba(test[predictors])[:,1]\n",
    "        preds = pd.Series(preds, index=test.index)\n",
    "        preds[preds > .6] = 1\n",
    "        preds[preds<=.6] = 0\n",
    "\n",
    "        # Combine predictions and test values\n",
    "        combined = pd.concat({\"Target\": test[\"Target\"],\"Predictions\": preds}, axis=1)\n",
    "\n",
    "        predictions.append(combined)\n",
    "\n",
    "    return pd.concat(predictions)"
   ]
  },
  {
   "cell_type": "code",
   "execution_count": 30,
   "id": "d1b2fbde",
   "metadata": {},
   "outputs": [],
   "source": [
    "predictions = backtest(data, model, predictors)"
   ]
  },
  {
   "cell_type": "code",
   "execution_count": 31,
   "id": "22a36b85",
   "metadata": {},
   "outputs": [
    {
     "data": {
      "text/plain": [
       "Predictions\n",
       "0.0    7870\n",
       "1.0     690\n",
       "Name: count, dtype: int64"
      ]
     },
     "execution_count": 31,
     "metadata": {},
     "output_type": "execute_result"
    }
   ],
   "source": [
    "#Counting the number of times the model predicts the price going up or down\n",
    "\n",
    "predictions[\"Predictions\"].value_counts()"
   ]
  },
  {
   "cell_type": "code",
   "execution_count": 32,
   "id": "af59eb06",
   "metadata": {},
   "outputs": [
    {
     "data": {
      "text/plain": [
       "Target\n",
       "1.0    4343\n",
       "0.0    4217\n",
       "Name: count, dtype: int64"
      ]
     },
     "execution_count": 32,
     "metadata": {},
     "output_type": "execute_result"
    }
   ],
   "source": [
    "predictions[\"Target\"].value_counts()"
   ]
  },
  {
   "cell_type": "code",
   "execution_count": 33,
   "id": "8c87c3c6",
   "metadata": {},
   "outputs": [
    {
     "data": {
      "text/plain": [
       "0.5057971014492754"
      ]
     },
     "execution_count": 33,
     "metadata": {},
     "output_type": "execute_result"
    }
   ],
   "source": [
    "# Calculate the precision of the model\n",
    "\n",
    "precision_score(predictions[\"Target\"], predictions[\"Predictions\"])"
   ]
  },
  {
   "cell_type": "code",
   "execution_count": 34,
   "id": "f5e27c38",
   "metadata": {},
   "outputs": [],
   "source": [
    "# Calculate some rolling means to help improve accuracy\n",
    "\n",
    "weekly_mean = data.rolling(7).mean()[\"Close\"]\n",
    "quarterly_mean = data.rolling(90).mean()[\"Close\"]\n",
    "annual_mean = data.rolling(365).mean()[\"Close\"]"
   ]
  },
  {
   "cell_type": "code",
   "execution_count": 35,
   "id": "3941b9f0",
   "metadata": {},
   "outputs": [],
   "source": [
    "weekly_trend = data.shift(1).rolling(7).sum()[\"Target\"]"
   ]
  },
  {
   "cell_type": "code",
   "execution_count": 36,
   "id": "8f355697",
   "metadata": {},
   "outputs": [],
   "source": [
    "data[\"weekly_mean\"] = weekly_mean / data[\"Close\"]\n",
    "data[\"quarterly_mean\"] = quarterly_mean / data[\"Close\"]\n",
    "data[\"annual_mean\"] = annual_mean / data[\"Close\"]"
   ]
  },
  {
   "cell_type": "code",
   "execution_count": 37,
   "id": "bdeb62be",
   "metadata": {},
   "outputs": [],
   "source": [
    "data[\"annual_weekly_mean\"] = data[\"annual_mean\"] / data[\"weekly_mean\"]\n",
    "data[\"annual_quarterly_mean\"] = data[\"annual_mean\"] / data[\"quarterly_mean\"]"
   ]
  },
  {
   "cell_type": "code",
   "execution_count": 38,
   "id": "b72d4fa1",
   "metadata": {},
   "outputs": [],
   "source": [
    "data[\"weekly_trend\"] = weekly_trend"
   ]
  },
  {
   "cell_type": "code",
   "execution_count": 40,
   "id": "981d8f2b",
   "metadata": {},
   "outputs": [
    {
     "data": {
      "text/plain": [
       "Index(['Actual_Close', 'Target', 'Close', 'Volume', 'Open', 'High', 'Low',\n",
       "       'weekly_mean', 'quarterly_mean', 'annual_mean', 'annual_weekly_mean',\n",
       "       'annual_quarterly_mean', 'weekly_trend'],\n",
       "      dtype='object')"
      ]
     },
     "execution_count": 40,
     "metadata": {},
     "output_type": "execute_result"
    }
   ],
   "source": [
    "data.columns"
   ]
  },
  {
   "cell_type": "code",
   "execution_count": 41,
   "id": "6f6fe0fb",
   "metadata": {},
   "outputs": [],
   "source": [
    "data[\"open_close_ratio\"] = data[\"Open\"] / data[\"Close\"]\n",
    "data[\"high_close_ratio\"] = data[\"High\"] / data[\"Close\"]\n",
    "data[\"low_close_ratio\"] = data[\"Low\"] / data[\"Close\"]"
   ]
  },
  {
   "cell_type": "code",
   "execution_count": 42,
   "id": "2d4e5f83",
   "metadata": {},
   "outputs": [],
   "source": [
    "#\n",
    "\n",
    "full_predictors = predictors + [\"weekly_mean\", \"quarterly_mean\", \"annual_mean\", \"annual_weekly_mean\", \"annual_quarterly_mean\", \"open_close_ratio\", \"high_close_ratio\", \"low_close_ratio\"]\n"
   ]
  },
  {
   "cell_type": "code",
   "execution_count": 43,
   "id": "466d81df",
   "metadata": {},
   "outputs": [],
   "source": [
    "# Removing the first year's data to avoid the NaNs we've just created\n",
    "\n",
    "predictions = backtest(data.iloc[365:], model, full_predictors)"
   ]
  },
  {
   "cell_type": "code",
   "execution_count": 44,
   "id": "d9968697",
   "metadata": {},
   "outputs": [
    {
     "data": {
      "text/plain": [
       "0.5792880258899676"
      ]
     },
     "execution_count": 44,
     "metadata": {},
     "output_type": "execute_result"
    }
   ],
   "source": [
    "# Hopefully improved precision \n",
    "\n",
    "precision_score(predictions[\"Target\"], predictions[\"Predictions\"])"
   ]
  },
  {
   "cell_type": "code",
   "execution_count": 45,
   "id": "9e3059f9",
   "metadata": {},
   "outputs": [
    {
     "data": {
      "text/plain": [
       "Predictions\n",
       "0.0    7886\n",
       "1.0     309\n",
       "Name: count, dtype: int64"
      ]
     },
     "execution_count": 45,
     "metadata": {},
     "output_type": "execute_result"
    }
   ],
   "source": [
    "# Show how many trades we would make \n",
    "predictions[\"Predictions\"].value_counts()"
   ]
  },
  {
   "cell_type": "code",
   "execution_count": 47,
   "id": "baa8bf89",
   "metadata": {},
   "outputs": [
    {
     "data": {
      "text/plain": [
       "<Axes: xlabel='Date'>"
      ]
     },
     "execution_count": 47,
     "metadata": {},
     "output_type": "execute_result"
    },
    {
     "data": {
      "image/png": "[encoded data removed]",
      "text/plain": [
       "<Figure size 640x480 with 1 Axes>"
      ]
     },
     "metadata": {},
     "output_type": "display_data"
    }
   ],
   "source": [
    "# Look at trades we would have made in the last 100 days\n",
    "\n",
    "predictions.iloc[-100:].plot()"
   ]
  },
  {
   "cell_type": "code",
   "execution_count": null,
   "id": "cfd3cee3",
   "metadata": {},
   "outputs": [],
   "source": [
    "# An experiment from the"
   ]
  }
 ],
 "metadata": {
  "kernelspec": {
   "display_name": "Python 3 (ipykernel)",
   "language": "python",
   "name": "python3"
  },
  "language_info": {
   "codemirror_mode": {
    "name": "ipython",
    "version": 3
   },
   "file_extension": ".py",
   "mimetype": "text/x-python",
   "name": "python",
   "nbconvert_exporter": "python",
   "pygments_lexer": "ipython3",
   "version": "3.11.3"
  }
 },
 "nbformat": 4,
 "nbformat_minor": 5
}
